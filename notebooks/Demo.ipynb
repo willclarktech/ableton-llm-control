{
 "cells": [
  {
   "cell_type": "markdown",
   "id": "2d9c5009",
   "metadata": {},
   "source": [
    "# Ableton LLM Control"
   ]
  },
  {
   "cell_type": "markdown",
   "id": "67c8132d",
   "metadata": {},
   "source": [
    "## Setup"
   ]
  },
  {
   "cell_type": "markdown",
   "id": "a4b8294f",
   "metadata": {},
   "source": [
    "### Imports"
   ]
  },
  {
   "cell_type": "code",
   "execution_count": 1,
   "id": "51cc72a6",
   "metadata": {},
   "outputs": [],
   "source": [
    "import live\n",
    "from transformers import AutoModelForSequenceClassification, AutoTokenizer, pipeline"
   ]
  },
  {
   "cell_type": "markdown",
   "id": "3bc5df65",
   "metadata": {},
   "source": [
    "### Constants"
   ]
  },
  {
   "cell_type": "code",
   "execution_count": 2,
   "id": "1e0eacb5",
   "metadata": {},
   "outputs": [],
   "source": [
    "MODEL_NAME = \"ableton_osc_matcher\"\n",
    "MODEL_PATH = f\"../artifacts/{MODEL_NAME}\""
   ]
  },
  {
   "cell_type": "markdown",
   "id": "9a93db2d",
   "metadata": {},
   "source": [
    "## Ableton Live connection"
   ]
  },
  {
   "cell_type": "code",
   "execution_count": 3,
   "id": "06fada9c",
   "metadata": {},
   "outputs": [
    {
     "name": "stdout",
     "output_type": "stream",
     "text": [
      "Test: ok\n"
     ]
    }
   ],
   "source": [
    "livequery = live.Query()\n",
    "test_response = livequery.query(\"/live/test\")\n",
    "print(f\"Test: {test_response[0]}\")"
   ]
  },
  {
   "cell_type": "markdown",
   "id": "7932d7a2",
   "metadata": {},
   "source": [
    "## Text classifier"
   ]
  },
  {
   "cell_type": "code",
   "execution_count": 4,
   "id": "798371d1",
   "metadata": {},
   "outputs": [
    {
     "name": "stdout",
     "output_type": "stream",
     "text": [
      "<transformers.pipelines.text_classification.TextClassificationPipeline object at 0x16688f950>\n"
     ]
    }
   ],
   "source": [
    "model = AutoModelForSequenceClassification.from_pretrained(MODEL_PATH)\n",
    "tokenizer = AutoTokenizer.from_pretrained(MODEL_PATH)\n",
    "classifier = pipeline(\"text-classification\", model=model, tokenizer=tokenizer)\n",
    "\n",
    "print(classifier)"
   ]
  },
  {
   "cell_type": "markdown",
   "id": "10e910dd",
   "metadata": {},
   "source": [
    "## Define the pipeline"
   ]
  },
  {
   "cell_type": "code",
   "execution_count": 5,
   "id": "1659e7e2",
   "metadata": {},
   "outputs": [],
   "source": [
    "def classify_text(command: str) -> str:\n",
    "\tresults: list[dict] = classifier(command)\n",
    "\tosc_result = results[0]\n",
    "\tprint(f\"OSC Result: {osc_result}\")\n",
    "\tif osc_result[\"score\"] < 0.3:\n",
    "\t\traise Exception(\"Low confidence\")\n",
    "\n",
    "\treturn osc_result[\"label\"]"
   ]
  },
  {
   "cell_type": "code",
   "execution_count": 6,
   "id": "d34b4cd5",
   "metadata": {},
   "outputs": [],
   "source": [
    "def run(command: str) -> None:\n",
    "\tosc_endpoint = classify_text(command)\n",
    "\tlive_result = livequery.cmd(osc_endpoint)\n",
    "\tprint(f\"Live result: {live_result}\")"
   ]
  },
  {
   "cell_type": "markdown",
   "id": "be251e1e",
   "metadata": {},
   "source": [
    "## Run the pipeline"
   ]
  },
  {
   "cell_type": "code",
   "execution_count": 12,
   "id": "1347142d",
   "metadata": {},
   "outputs": [
    {
     "name": "stdout",
     "output_type": "stream",
     "text": [
      "OSC Result: {'label': '/live/song/stop_playing', 'score': 0.8274032473564148}\n",
      "Live result: None\n"
     ]
    }
   ],
   "source": [
    "command = \"\"\n",
    "run(command)"
   ]
  },
  {
   "cell_type": "code",
   "execution_count": null,
   "id": "b1631f06",
   "metadata": {},
   "outputs": [],
   "source": []
  }
 ],
 "metadata": {
  "kernelspec": {
   "display_name": "Python 3 (ipykernel)",
   "language": "python",
   "name": "python3"
  },
  "language_info": {
   "codemirror_mode": {
    "name": "ipython",
    "version": 3
   },
   "file_extension": ".py",
   "mimetype": "text/x-python",
   "name": "python",
   "nbconvert_exporter": "python",
   "pygments_lexer": "ipython3",
   "version": "3.11.7"
  }
 },
 "nbformat": 4,
 "nbformat_minor": 5
}
